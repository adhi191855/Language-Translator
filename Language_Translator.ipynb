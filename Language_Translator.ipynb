{
  "nbformat": 4,
  "nbformat_minor": 0,
  "metadata": {
    "colab": {
      "provenance": [],
      "collapsed_sections": [
        "H70yR5SLQCQi",
        "dkN8IJ90QHdF",
        "cybbo4K4QMq0",
        "zzIQWiGVQkCn",
        "_dUd4p0dRny2",
        "8pP_zD2jVYkC",
        "K7ZJrGP_Qya0"
      ]
    },
    "kernelspec": {
      "name": "python3",
      "display_name": "Python 3"
    },
    "language_info": {
      "name": "python"
    }
  },
  "cells": [
    {
      "cell_type": "markdown",
      "source": [
        "# **Language Translator**"
      ],
      "metadata": {
        "id": "H70yR5SLQCQi"
      }
    },
    {
      "cell_type": "markdown",
      "source": [
        "## **Google API**"
      ],
      "metadata": {
        "id": "dkN8IJ90QHdF"
      }
    },
    {
      "cell_type": "code",
      "execution_count": 1,
      "metadata": {
        "id": "9BL6rQWy3K3X",
        "colab": {
          "base_uri": "https://localhost:8080/"
        },
        "outputId": "94a261d2-b8ef-441b-ae37-fd8546d02f58"
      },
      "outputs": [
        {
          "output_type": "stream",
          "name": "stdout",
          "text": [
            "Collecting googletrans==3.1.0a\n",
            "  Downloading googletrans-3.1.0a0.tar.gz (19 kB)\n",
            "  Preparing metadata (setup.py) ... \u001b[?25l\u001b[?25hdone\n",
            "Collecting httpx==0.13.3 (from googletrans==3.1.0a)\n",
            "  Downloading httpx-0.13.3-py3-none-any.whl (55 kB)\n",
            "\u001b[2K     \u001b[90m━━━━━━━━━━━━━━━━━━━━━━━━━━━━━━━━━━━━━━━━\u001b[0m \u001b[32m55.1/55.1 kB\u001b[0m \u001b[31m1.2 MB/s\u001b[0m eta \u001b[36m0:00:00\u001b[0m\n",
            "\u001b[?25hRequirement already satisfied: certifi in /usr/local/lib/python3.10/dist-packages (from httpx==0.13.3->googletrans==3.1.0a) (2023.11.17)\n",
            "Collecting hstspreload (from httpx==0.13.3->googletrans==3.1.0a)\n",
            "  Downloading hstspreload-2023.1.1-py3-none-any.whl (1.5 MB)\n",
            "\u001b[2K     \u001b[90m━━━━━━━━━━━━━━━━━━━━━━━━━━━━━━━━━━━━━━━━\u001b[0m \u001b[32m1.5/1.5 MB\u001b[0m \u001b[31m24.3 MB/s\u001b[0m eta \u001b[36m0:00:00\u001b[0m\n",
            "\u001b[?25hRequirement already satisfied: sniffio in /usr/local/lib/python3.10/dist-packages (from httpx==0.13.3->googletrans==3.1.0a) (1.3.0)\n",
            "Collecting chardet==3.* (from httpx==0.13.3->googletrans==3.1.0a)\n",
            "  Downloading chardet-3.0.4-py2.py3-none-any.whl (133 kB)\n",
            "\u001b[2K     \u001b[90m━━━━━━━━━━━━━━━━━━━━━━━━━━━━━━━━━━━━━━━━\u001b[0m \u001b[32m133.4/133.4 kB\u001b[0m \u001b[31m14.0 MB/s\u001b[0m eta \u001b[36m0:00:00\u001b[0m\n",
            "\u001b[?25hCollecting idna==2.* (from httpx==0.13.3->googletrans==3.1.0a)\n",
            "  Downloading idna-2.10-py2.py3-none-any.whl (58 kB)\n",
            "\u001b[2K     \u001b[90m━━━━━━━━━━━━━━━━━━━━━━━━━━━━━━━━━━━━━━━━\u001b[0m \u001b[32m58.8/58.8 kB\u001b[0m \u001b[31m4.7 MB/s\u001b[0m eta \u001b[36m0:00:00\u001b[0m\n",
            "\u001b[?25hCollecting rfc3986<2,>=1.3 (from httpx==0.13.3->googletrans==3.1.0a)\n",
            "  Downloading rfc3986-1.5.0-py2.py3-none-any.whl (31 kB)\n",
            "Collecting httpcore==0.9.* (from httpx==0.13.3->googletrans==3.1.0a)\n",
            "  Downloading httpcore-0.9.1-py3-none-any.whl (42 kB)\n",
            "\u001b[2K     \u001b[90m━━━━━━━━━━━━━━━━━━━━━━━━━━━━━━━━━━━━━━━━\u001b[0m \u001b[32m42.6/42.6 kB\u001b[0m \u001b[31m4.1 MB/s\u001b[0m eta \u001b[36m0:00:00\u001b[0m\n",
            "\u001b[?25hCollecting h11<0.10,>=0.8 (from httpcore==0.9.*->httpx==0.13.3->googletrans==3.1.0a)\n",
            "  Downloading h11-0.9.0-py2.py3-none-any.whl (53 kB)\n",
            "\u001b[2K     \u001b[90m━━━━━━━━━━━━━━━━━━━━━━━━━━━━━━━━━━━━━━━━\u001b[0m \u001b[32m53.6/53.6 kB\u001b[0m \u001b[31m5.3 MB/s\u001b[0m eta \u001b[36m0:00:00\u001b[0m\n",
            "\u001b[?25hCollecting h2==3.* (from httpcore==0.9.*->httpx==0.13.3->googletrans==3.1.0a)\n",
            "  Downloading h2-3.2.0-py2.py3-none-any.whl (65 kB)\n",
            "\u001b[2K     \u001b[90m━━━━━━━━━━━━━━━━━━━━━━━━━━━━━━━━━━━━━━━━\u001b[0m \u001b[32m65.0/65.0 kB\u001b[0m \u001b[31m6.0 MB/s\u001b[0m eta \u001b[36m0:00:00\u001b[0m\n",
            "\u001b[?25hCollecting hyperframe<6,>=5.2.0 (from h2==3.*->httpcore==0.9.*->httpx==0.13.3->googletrans==3.1.0a)\n",
            "  Downloading hyperframe-5.2.0-py2.py3-none-any.whl (12 kB)\n",
            "Collecting hpack<4,>=3.0 (from h2==3.*->httpcore==0.9.*->httpx==0.13.3->googletrans==3.1.0a)\n",
            "  Downloading hpack-3.0.0-py2.py3-none-any.whl (38 kB)\n",
            "Building wheels for collected packages: googletrans\n",
            "  Building wheel for googletrans (setup.py) ... \u001b[?25l\u001b[?25hdone\n",
            "  Created wheel for googletrans: filename=googletrans-3.1.0a0-py3-none-any.whl size=16352 sha256=a59075a71c7e9f9868c104deb11fa5305b1ef31e8bcb762f921e1f820a3847d0\n",
            "  Stored in directory: /root/.cache/pip/wheels/50/5d/3c/8477d0af4ca2b8b1308812c09f1930863caeebc762fe265a95\n",
            "Successfully built googletrans\n",
            "Installing collected packages: rfc3986, hyperframe, hpack, h11, chardet, idna, hstspreload, h2, httpcore, httpx, googletrans\n",
            "  Attempting uninstall: chardet\n",
            "    Found existing installation: chardet 5.2.0\n",
            "    Uninstalling chardet-5.2.0:\n",
            "      Successfully uninstalled chardet-5.2.0\n",
            "  Attempting uninstall: idna\n",
            "    Found existing installation: idna 3.6\n",
            "    Uninstalling idna-3.6:\n",
            "      Successfully uninstalled idna-3.6\n",
            "Successfully installed chardet-3.0.4 googletrans-3.1.0a0 h11-0.9.0 h2-3.2.0 hpack-3.0.0 hstspreload-2023.1.1 httpcore-0.9.1 httpx-0.13.3 hyperframe-5.2.0 idna-2.10 rfc3986-1.5.0\n"
          ]
        }
      ],
      "source": [
        "!pip install googletrans==3.1.0a # Google Translate API -- Allows developers to integrate google's translation services into thier own application"
      ]
    },
    {
      "cell_type": "markdown",
      "source": [
        "## **Required Libraries**"
      ],
      "metadata": {
        "id": "cybbo4K4QMq0"
      }
    },
    {
      "cell_type": "code",
      "source": [
        "import googletrans\n",
        "\n",
        "from googletrans import Translator # Importing \"Translator\" module for language translation"
      ],
      "metadata": {
        "id": "p_U0duWn3wC3"
      },
      "execution_count": 2,
      "outputs": []
    },
    {
      "cell_type": "markdown",
      "source": [
        "## **View Available Languages and their Translation Code**"
      ],
      "metadata": {
        "id": "zzIQWiGVQkCn"
      }
    },
    {
      "cell_type": "code",
      "source": [
        "from googletrans import LANGUAGES\n",
        "\n",
        "languages = []\n",
        "\n",
        "for code, name in LANGUAGES.items():\n",
        "    languages.append({name:code})"
      ],
      "metadata": {
        "id": "EQF1AR0f4ajT"
      },
      "execution_count": 3,
      "outputs": []
    },
    {
      "cell_type": "code",
      "source": [
        "print(\"Languages and thier Codes below\\n\")\n",
        "languages"
      ],
      "metadata": {
        "id": "KD9yqbFpx7h3",
        "colab": {
          "base_uri": "https://localhost:8080/"
        },
        "outputId": "ef680a9d-4abb-4e2b-ce7c-16513cb183d4"
      },
      "execution_count": 4,
      "outputs": [
        {
          "output_type": "stream",
          "name": "stdout",
          "text": [
            "Languages and thier Codes below\n",
            "\n"
          ]
        },
        {
          "output_type": "execute_result",
          "data": {
            "text/plain": [
              "[{'afrikaans': 'af'},\n",
              " {'albanian': 'sq'},\n",
              " {'amharic': 'am'},\n",
              " {'arabic': 'ar'},\n",
              " {'armenian': 'hy'},\n",
              " {'azerbaijani': 'az'},\n",
              " {'basque': 'eu'},\n",
              " {'belarusian': 'be'},\n",
              " {'bengali': 'bn'},\n",
              " {'bosnian': 'bs'},\n",
              " {'bulgarian': 'bg'},\n",
              " {'catalan': 'ca'},\n",
              " {'cebuano': 'ceb'},\n",
              " {'chichewa': 'ny'},\n",
              " {'chinese (simplified)': 'zh-cn'},\n",
              " {'chinese (traditional)': 'zh-tw'},\n",
              " {'corsican': 'co'},\n",
              " {'croatian': 'hr'},\n",
              " {'czech': 'cs'},\n",
              " {'danish': 'da'},\n",
              " {'dutch': 'nl'},\n",
              " {'english': 'en'},\n",
              " {'esperanto': 'eo'},\n",
              " {'estonian': 'et'},\n",
              " {'filipino': 'tl'},\n",
              " {'finnish': 'fi'},\n",
              " {'french': 'fr'},\n",
              " {'frisian': 'fy'},\n",
              " {'galician': 'gl'},\n",
              " {'georgian': 'ka'},\n",
              " {'german': 'de'},\n",
              " {'greek': 'el'},\n",
              " {'gujarati': 'gu'},\n",
              " {'haitian creole': 'ht'},\n",
              " {'hausa': 'ha'},\n",
              " {'hawaiian': 'haw'},\n",
              " {'hebrew': 'iw'},\n",
              " {'hebrew': 'he'},\n",
              " {'hindi': 'hi'},\n",
              " {'hmong': 'hmn'},\n",
              " {'hungarian': 'hu'},\n",
              " {'icelandic': 'is'},\n",
              " {'igbo': 'ig'},\n",
              " {'indonesian': 'id'},\n",
              " {'irish': 'ga'},\n",
              " {'italian': 'it'},\n",
              " {'japanese': 'ja'},\n",
              " {'javanese': 'jw'},\n",
              " {'kannada': 'kn'},\n",
              " {'kazakh': 'kk'},\n",
              " {'khmer': 'km'},\n",
              " {'korean': 'ko'},\n",
              " {'kurdish (kurmanji)': 'ku'},\n",
              " {'kyrgyz': 'ky'},\n",
              " {'lao': 'lo'},\n",
              " {'latin': 'la'},\n",
              " {'latvian': 'lv'},\n",
              " {'lithuanian': 'lt'},\n",
              " {'luxembourgish': 'lb'},\n",
              " {'macedonian': 'mk'},\n",
              " {'malagasy': 'mg'},\n",
              " {'malay': 'ms'},\n",
              " {'malayalam': 'ml'},\n",
              " {'maltese': 'mt'},\n",
              " {'maori': 'mi'},\n",
              " {'marathi': 'mr'},\n",
              " {'mongolian': 'mn'},\n",
              " {'myanmar (burmese)': 'my'},\n",
              " {'nepali': 'ne'},\n",
              " {'norwegian': 'no'},\n",
              " {'odia': 'or'},\n",
              " {'pashto': 'ps'},\n",
              " {'persian': 'fa'},\n",
              " {'polish': 'pl'},\n",
              " {'portuguese': 'pt'},\n",
              " {'punjabi': 'pa'},\n",
              " {'romanian': 'ro'},\n",
              " {'russian': 'ru'},\n",
              " {'samoan': 'sm'},\n",
              " {'scots gaelic': 'gd'},\n",
              " {'serbian': 'sr'},\n",
              " {'sesotho': 'st'},\n",
              " {'shona': 'sn'},\n",
              " {'sindhi': 'sd'},\n",
              " {'sinhala': 'si'},\n",
              " {'slovak': 'sk'},\n",
              " {'slovenian': 'sl'},\n",
              " {'somali': 'so'},\n",
              " {'spanish': 'es'},\n",
              " {'sundanese': 'su'},\n",
              " {'swahili': 'sw'},\n",
              " {'swedish': 'sv'},\n",
              " {'tajik': 'tg'},\n",
              " {'tamil': 'ta'},\n",
              " {'telugu': 'te'},\n",
              " {'thai': 'th'},\n",
              " {'turkish': 'tr'},\n",
              " {'ukrainian': 'uk'},\n",
              " {'urdu': 'ur'},\n",
              " {'uyghur': 'ug'},\n",
              " {'uzbek': 'uz'},\n",
              " {'vietnamese': 'vi'},\n",
              " {'welsh': 'cy'},\n",
              " {'xhosa': 'xh'},\n",
              " {'yiddish': 'yi'},\n",
              " {'yoruba': 'yo'},\n",
              " {'zulu': 'zu'}]"
            ]
          },
          "metadata": {},
          "execution_count": 4
        }
      ]
    },
    {
      "cell_type": "markdown",
      "source": [
        "## **Translation Process**"
      ],
      "metadata": {
        "id": "_dUd4p0dRny2"
      }
    },
    {
      "cell_type": "code",
      "source": [
        "import googletrans\n",
        "\n",
        "from googletrans import Translator\n",
        "\n",
        "user_text = input(\"Provided Text : \")\n",
        "\n",
        "target_language = \"te\"       # Give the needed language code , here \"Tamil\" Language code is given\n",
        "\n",
        "# Translator Object creation\n",
        "translator = Translator()\n",
        "\n",
        "# Translation process\n",
        "translated = translator.translate(user_text, dest=target_language)\n",
        "\n",
        "# Access the translated text\n",
        "translated_text = translated.text\n",
        "\n",
        "# Print the translated text\n",
        "print('\\nConverted Text :',translated_text)\n"
      ],
      "metadata": {
        "id": "dtQ06Idt41Cj",
        "colab": {
          "base_uri": "https://localhost:8080/"
        },
        "outputId": "3b7bbdec-01ac-465c-9883-7e589576e890"
      },
      "execution_count": 8,
      "outputs": [
        {
          "output_type": "stream",
          "name": "stdout",
          "text": [
            "Provided Text : Aadi\n",
            "\n",
            "Converted Text : ఆది\n"
          ]
        }
      ]
    },
    {
      "cell_type": "markdown",
      "source": [
        "# **Speech To Translation**"
      ],
      "metadata": {
        "id": "Fepw5stXTIbI"
      }
    },
    {
      "cell_type": "markdown",
      "source": [
        "# **Old Model Process**"
      ],
      "metadata": {
        "id": "8pP_zD2jVYkC"
      }
    },
    {
      "cell_type": "code",
      "source": [
        "!pip install translate"
      ],
      "metadata": {
        "colab": {
          "base_uri": "https://localhost:8080/"
        },
        "id": "kEGf1Kwc5cXF",
        "outputId": "1e4b4321-7772-43fb-8b69-8c070d967aa5"
      },
      "execution_count": 6,
      "outputs": [
        {
          "output_type": "stream",
          "name": "stdout",
          "text": [
            "Collecting translate\n",
            "  Downloading translate-3.6.1-py2.py3-none-any.whl (12 kB)\n",
            "Requirement already satisfied: click in /usr/local/lib/python3.10/dist-packages (from translate) (8.1.7)\n",
            "Requirement already satisfied: lxml in /usr/local/lib/python3.10/dist-packages (from translate) (4.9.3)\n",
            "Requirement already satisfied: requests in /usr/local/lib/python3.10/dist-packages (from translate) (2.31.0)\n",
            "Collecting libretranslatepy==2.1.1 (from translate)\n",
            "  Downloading libretranslatepy-2.1.1-py3-none-any.whl (3.2 kB)\n",
            "Requirement already satisfied: charset-normalizer<4,>=2 in /usr/local/lib/python3.10/dist-packages (from requests->translate) (3.3.2)\n",
            "Requirement already satisfied: idna<4,>=2.5 in /usr/local/lib/python3.10/dist-packages (from requests->translate) (2.10)\n",
            "Requirement already satisfied: urllib3<3,>=1.21.1 in /usr/local/lib/python3.10/dist-packages (from requests->translate) (2.0.7)\n",
            "Requirement already satisfied: certifi>=2017.4.17 in /usr/local/lib/python3.10/dist-packages (from requests->translate) (2023.11.17)\n",
            "Installing collected packages: libretranslatepy, translate\n",
            "Successfully installed libretranslatepy-2.1.1 translate-3.6.1\n"
          ]
        }
      ]
    },
    {
      "cell_type": "code",
      "source": [
        "from translate import Translator\n",
        "\n",
        "translator = Translator(from_lang='en', to_lang='te')  # Translate from English to French\n",
        "\n",
        "english_text = input(\"Enter Text : \")\n",
        "\n",
        "translated_text = translator.translate(english_text)\n",
        "\n",
        "print(translated_text)"
      ],
      "metadata": {
        "id": "XxexHMa_9IZh",
        "colab": {
          "base_uri": "https://localhost:8080/"
        },
        "outputId": "4c1137c5-e128-4d27-e7e6-0a6c9305f0f8"
      },
      "execution_count": 7,
      "outputs": [
        {
          "output_type": "stream",
          "name": "stdout",
          "text": [
            "Enter Text : sree\n",
            "శ్రీ\n"
          ]
        }
      ]
    }
  ]
}